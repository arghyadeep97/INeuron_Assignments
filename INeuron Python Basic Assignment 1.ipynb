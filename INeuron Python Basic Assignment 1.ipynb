{
 "cells": [
  {
   "cell_type": "markdown",
   "id": "4c6b2360",
   "metadata": {},
   "source": [
    "# **Python Basic Assignment 1**"
   ]
  },
  {
   "cell_type": "markdown",
   "id": "bc29000d",
   "metadata": {},
   "source": [
    "### **Question 1. In the below elements which of them are values or an expression? Eg:- values can be integer or string and expressions will be mathematical operators.**"
   ]
  },
  {
   "cell_type": "markdown",
   "id": "d50819d6",
   "metadata": {},
   "source": [
    "values:- 'hello',-87.8, 6\n",
    "\n",
    "expressions:- *,-,/,+\n"
   ]
  },
  {
   "cell_type": "markdown",
   "id": "e78e5cd0",
   "metadata": {},
   "source": [
    "### **Question 2. What is the difference between string and variable?**"
   ]
  },
  {
   "cell_type": "markdown",
   "id": "0560a6d7",
   "metadata": {},
   "source": [
    "Strings are the sequence of unicode characters. A string may contain alphabets, words or other characters. Example: \"Abc\",\"123\",\"I love football\" etc.\n",
    "* String is a datatype.\n",
    "* Strings are immutable that means modification in runtime is not allowed\n",
    "* String are represented by using ' ' or \" \".\n",
    "\n",
    "Variable is a container which contains a value.\n",
    "Variable points toward a memory location in RAM which contains a value.\n",
    "As python is dynamically typed we don't have to mention variable type, in runtime variable is typecasted into the type of it's containing data.\n",
    "Eg. a = 1 A string variable, b = 1.5 A float variable, c = \"Hello\" A string variable\n"
   ]
  },
  {
   "cell_type": "markdown",
   "id": "e3e0f14e",
   "metadata": {},
   "source": [
    "### **Question 3. Describe three different data types.**"
   ]
  },
  {
   "cell_type": "markdown",
   "id": "f818efff",
   "metadata": {},
   "source": [
    "Three primary datatypes are:\n",
    "1. Integer - An integer data type represents some range of mathematical integers. It may contain a positive number or a negative number or zero. Eg -1,0,5\n",
    "\n",
    "2. Float - Float datatype represents all the real numbers with decimal points precision. Eg. 1.5,-5.4,0.5\n",
    "\n",
    "In Integer and Float dataypes operations are performed like Arithmatic and Bitwise etc. \n",
    "\n",
    "3. String - Strings are the sequence of unicode characters. Iteration, Indexing and slicing is allowed in a string variable Eg: \"Abc\",\"123\". "
   ]
  },
  {
   "cell_type": "markdown",
   "id": "ca7770b8",
   "metadata": {},
   "source": [
    "### **Question 4. What is an expression made up of? What do all expressions do?**"
   ]
  },
  {
   "cell_type": "markdown",
   "id": "0d3e2260",
   "metadata": {},
   "source": [
    "An expression is a combination of operators and operands. Eg. 2+5, 8.5 - 2.4.\n",
    "\n",
    "Expressions are evaluated to produce some other value which can be stored in a variable."
   ]
  },
  {
   "cell_type": "markdown",
   "id": "73026fbd",
   "metadata": {},
   "source": [
    "### **Question 5. This assignment statements, like spam = 10. What is the difference between an expression and a statement?**"
   ]
  },
  {
   "cell_type": "markdown",
   "id": "e020ee8b",
   "metadata": {},
   "source": [
    "Expression are combination of operators and operands. Expressions are evaluated by interpreter or compiler to create a new value.\n",
    "Eg. If we write 2+3 interpreter will return 5 by evaluation.\n",
    "\n",
    "But is case of statement, everything inside a chunck of code which can make a line(or several lines). An expression is also a statement.\n",
    "Here spam = 10 this statement will do something but no evaluation will be performed. 10 which is in a particular memory location after exceting this statement spam will point the location where 10 resides."
   ]
  },
  {
   "cell_type": "markdown",
   "id": "507e05ad",
   "metadata": {},
   "source": [
    "### **Question 6. After running the following code, what does the variable bacon contain?**\n",
    "### **bacon = 22**\n",
    "### **bacon + 1**"
   ]
  },
  {
   "cell_type": "markdown",
   "id": "773d0601",
   "metadata": {},
   "source": [
    "22 resides a place inside memory after excuting bacon = 22, bacon variable will point that location where 22 resides. And bacon will return 22 as it's value.\n",
    "\n",
    "bacon + 1 inside print statement it will return 23 beacuse evaluation (22+1) will be performed but output won't be stored in memory becase it is not kept inside a variable. and value of recon will still be 22."
   ]
  },
  {
   "cell_type": "markdown",
   "id": "5a30a19d",
   "metadata": {},
   "source": [
    "### **Question 7. What should the values of the following two terms be?**\n",
    "### **'spam' + 'spamspam'**\n",
    "### **'spam' * 3**"
   ]
  },
  {
   "cell_type": "code",
   "execution_count": 1,
   "id": "51c6c62a",
   "metadata": {},
   "outputs": [
    {
     "name": "stdout",
     "output_type": "stream",
     "text": [
      "spamspamspam\n",
      "spamspamspam\n"
     ]
    }
   ],
   "source": [
    "\"\"\" 'spam' + 'spamspam' will return 'spamspamspam' because string concatenation operation will be performed.\"\"\"\n",
    "print('spam'+'spamspam')\n",
    "\n",
    "\"\"\" 'spam' *3 will also return 'spamspamspam'\"\"\"\n",
    "print('spam'*3)"
   ]
  },
  {
   "cell_type": "markdown",
   "id": "c101e30c",
   "metadata": {},
   "source": [
    "### **Question 8. Why is eggs a valid variable name while 100 is invalid?**"
   ]
  },
  {
   "cell_type": "markdown",
   "id": "d06221a8",
   "metadata": {},
   "source": [
    "According to programming conventions variable name must start with alphabets or underscore(_) and variable must be excluded from Reserved keywords.\n",
    "\n",
    "In this scenario, egg follows the convention but 100 starts with 1 which is not an alphabet or underscore so it is not a valid variable name."
   ]
  },
  {
   "cell_type": "markdown",
   "id": "0ae5bbd6",
   "metadata": {},
   "source": [
    "### **Question 9. What three functions can be used to get the integer, floating-point number, or string version of a value?**"
   ]
  },
  {
   "cell_type": "markdown",
   "id": "55b87673",
   "metadata": {},
   "source": [
    "int() function is used to convert into integer value, (alphabet can't be converted will raise error)\n",
    "\n",
    "float() function is used to convert into float value\n",
    "\n",
    "str() function is used to convert into string value"
   ]
  },
  {
   "cell_type": "markdown",
   "id": "129ac2ab",
   "metadata": {},
   "source": [
    "### **Question 10. Why does this expression cause an error? How can you fix it?**\n",
    "### **'I have eaten ' + 99 + ' burritos.'**"
   ]
  },
  {
   "cell_type": "markdown",
   "id": "eb8fb059",
   "metadata": {},
   "source": [
    "This expression will raise an error because 99 is an integer object which can't be concatenated with these string objects. Datatype missmatch will occur.\n",
    "\n",
    "We can solve this problem by converting 99 into string datatype. Which is demonstrated below."
   ]
  },
  {
   "cell_type": "code",
   "execution_count": 2,
   "id": "351581f9",
   "metadata": {},
   "outputs": [
    {
     "name": "stdout",
     "output_type": "stream",
     "text": [
      "I have eaten 99 burritos.\n",
      "I have eaten 99 burritos.\n"
     ]
    }
   ],
   "source": [
    "print('I have eaten ' + '99' + ' burritos.')\n",
    "print('I have eaten ' + str(99) + ' burritos.')"
   ]
  }
 ],
 "metadata": {
  "kernelspec": {
   "display_name": "Python 3 (ipykernel)",
   "language": "python",
   "name": "python3"
  },
  "language_info": {
   "codemirror_mode": {
    "name": "ipython",
    "version": 3
   },
   "file_extension": ".py",
   "mimetype": "text/x-python",
   "name": "python",
   "nbconvert_exporter": "python",
   "pygments_lexer": "ipython3",
   "version": "3.9.7"
  }
 },
 "nbformat": 4,
 "nbformat_minor": 5
}
